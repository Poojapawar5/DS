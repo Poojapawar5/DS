{
 "cells": [
  {
   "cell_type": "code",
   "execution_count": 1,
   "id": "cef92889",
   "metadata": {},
   "outputs": [
    {
     "data": {
      "text/plain": [
       "5"
      ]
     },
     "execution_count": 1,
     "metadata": {},
     "output_type": "execute_result"
    }
   ],
   "source": [
    "2+3"
   ]
  },
  {
   "cell_type": "code",
   "execution_count": 2,
   "id": "9742bb37",
   "metadata": {},
   "outputs": [
    {
     "data": {
      "text/plain": [
       "0"
      ]
     },
     "execution_count": 2,
     "metadata": {},
     "output_type": "execute_result"
    }
   ],
   "source": [
    "4-4"
   ]
  },
  {
   "cell_type": "code",
   "execution_count": 3,
   "id": "3ebbdd75",
   "metadata": {},
   "outputs": [
    {
     "data": {
      "text/plain": [
       "2"
      ]
     },
     "execution_count": 3,
     "metadata": {},
     "output_type": "execute_result"
    }
   ],
   "source": [
    "14%3"
   ]
  },
  {
   "cell_type": "code",
   "execution_count": 4,
   "id": "c89ac4aa",
   "metadata": {},
   "outputs": [
    {
     "data": {
      "text/plain": [
       "30"
      ]
     },
     "execution_count": 4,
     "metadata": {},
     "output_type": "execute_result"
    }
   ],
   "source": [
    "5*6"
   ]
  },
  {
   "cell_type": "code",
   "execution_count": 5,
   "id": "f99622ce",
   "metadata": {},
   "outputs": [
    {
     "data": {
      "text/plain": [
       "16"
      ]
     },
     "execution_count": 5,
     "metadata": {},
     "output_type": "execute_result"
    }
   ],
   "source": [
    "2**4"
   ]
  },
  {
   "cell_type": "code",
   "execution_count": 6,
   "id": "83dd2483",
   "metadata": {},
   "outputs": [
    {
     "data": {
      "text/plain": [
       "8"
      ]
     },
     "execution_count": 6,
     "metadata": {},
     "output_type": "execute_result"
    }
   ],
   "source": [
    "2**3"
   ]
  },
  {
   "cell_type": "code",
   "execution_count": 7,
   "id": "cd05d1f2",
   "metadata": {},
   "outputs": [
    {
     "data": {
      "text/plain": [
       "6.0"
      ]
     },
     "execution_count": 7,
     "metadata": {},
     "output_type": "execute_result"
    }
   ],
   "source": [
    "30/5"
   ]
  },
  {
   "cell_type": "markdown",
   "id": "81263c48",
   "metadata": {},
   "source": [
    "# Variables in python"
   ]
  },
  {
   "cell_type": "code",
   "execution_count": 8,
   "id": "cfa82a32",
   "metadata": {},
   "outputs": [],
   "source": [
    "x=20"
   ]
  },
  {
   "cell_type": "code",
   "execution_count": 9,
   "id": "32dce4ed",
   "metadata": {},
   "outputs": [
    {
     "data": {
      "text/plain": [
       "136444998828880"
      ]
     },
     "execution_count": 9,
     "metadata": {},
     "output_type": "execute_result"
    }
   ],
   "source": [
    "id(x)"
   ]
  },
  {
   "cell_type": "code",
   "execution_count": 10,
   "id": "87b5f735",
   "metadata": {},
   "outputs": [],
   "source": [
    "y=20"
   ]
  },
  {
   "cell_type": "code",
   "execution_count": 11,
   "id": "04d593cf",
   "metadata": {},
   "outputs": [
    {
     "data": {
      "text/plain": [
       "136444998828880"
      ]
     },
     "execution_count": 11,
     "metadata": {},
     "output_type": "execute_result"
    }
   ],
   "source": [
    "id(y)  #Location in python"
   ]
  },
  {
   "cell_type": "code",
   "execution_count": 12,
   "id": "6d75e6c2",
   "metadata": {},
   "outputs": [],
   "source": [
    "y=21"
   ]
  },
  {
   "cell_type": "code",
   "execution_count": 13,
   "id": "a78d7d96",
   "metadata": {},
   "outputs": [
    {
     "data": {
      "text/plain": [
       "136444998828912"
      ]
     },
     "execution_count": 13,
     "metadata": {},
     "output_type": "execute_result"
    }
   ],
   "source": [
    "id(y)"
   ]
  },
  {
   "cell_type": "code",
   "execution_count": 14,
   "id": "de1a2d55",
   "metadata": {},
   "outputs": [],
   "source": [
    "# Rules to write variable name\n",
    "# 1 First character has to be alphabate or '_'\n",
    "# 2 Second onward it can be alphabate,'_' & Numeric"
   ]
  },
  {
   "cell_type": "code",
   "execution_count": 15,
   "id": "4cf6ee7b",
   "metadata": {},
   "outputs": [],
   "source": [
    "x,y,z=10,20,30"
   ]
  },
  {
   "cell_type": "code",
   "execution_count": 22,
   "id": "8b02ea41",
   "metadata": {},
   "outputs": [],
   "source": [
    "x=10\n",
    "y=20\n",
    "x,y,x=x+10,x*5,x*y"
   ]
  },
  {
   "cell_type": "code",
   "execution_count": 23,
   "id": "d9d4eb5e",
   "metadata": {},
   "outputs": [
    {
     "data": {
      "text/plain": [
       "200"
      ]
     },
     "execution_count": 23,
     "metadata": {},
     "output_type": "execute_result"
    }
   ],
   "source": [
    "x"
   ]
  },
  {
   "cell_type": "code",
   "execution_count": 25,
   "id": "89c136a0",
   "metadata": {},
   "outputs": [
    {
     "data": {
      "text/plain": [
       "50"
      ]
     },
     "execution_count": 25,
     "metadata": {},
     "output_type": "execute_result"
    }
   ],
   "source": [
    "y"
   ]
  },
  {
   "cell_type": "code",
   "execution_count": 26,
   "id": "8431824d",
   "metadata": {},
   "outputs": [
    {
     "data": {
      "text/plain": [
       "(200, 50)"
      ]
     },
     "execution_count": 26,
     "metadata": {},
     "output_type": "execute_result"
    }
   ],
   "source": [
    "x,y"
   ]
  },
  {
   "cell_type": "markdown",
   "id": "9a2047fb",
   "metadata": {},
   "source": [
    "# Data types and containers"
   ]
  },
  {
   "cell_type": "markdown",
   "id": "139d5e80",
   "metadata": {},
   "source": [
    "\n",
    "int\n",
    "float\n",
    "bool\n",
    "str\n",
    "\n",
    "\n",
    "list\n",
    "tuple\n",
    "dict\n",
    "set"
   ]
  },
  {
   "cell_type": "code",
   "execution_count": 40,
   "id": "a7c56f3d",
   "metadata": {},
   "outputs": [
    {
     "data": {
      "text/plain": [
       "10"
      ]
     },
     "execution_count": 40,
     "metadata": {},
     "output_type": "execute_result"
    }
   ],
   "source": [
    "x=10.0\n",
    "x=int(x)\n",
    "x"
   ]
  },
  {
   "cell_type": "code",
   "execution_count": 41,
   "id": "920cc1ba",
   "metadata": {},
   "outputs": [
    {
     "data": {
      "text/plain": [
       "10.0"
      ]
     },
     "execution_count": 41,
     "metadata": {},
     "output_type": "execute_result"
    }
   ],
   "source": [
    "y=10\n",
    "y=float(y)\n",
    "y"
   ]
  },
  {
   "cell_type": "code",
   "execution_count": 42,
   "id": "4b04b11a",
   "metadata": {},
   "outputs": [
    {
     "data": {
      "text/plain": [
       "True"
      ]
     },
     "execution_count": 42,
     "metadata": {},
     "output_type": "execute_result"
    }
   ],
   "source": [
    "x==y   # '==' chk values are same or not"
   ]
  },
  {
   "cell_type": "code",
   "execution_count": 43,
   "id": "bcbabbe6",
   "metadata": {},
   "outputs": [],
   "source": [
    "x=10\n",
    "y=10"
   ]
  },
  {
   "cell_type": "code",
   "execution_count": 45,
   "id": "59e15b47",
   "metadata": {},
   "outputs": [
    {
     "data": {
      "text/plain": [
       "True"
      ]
     },
     "execution_count": 45,
     "metadata": {},
     "output_type": "execute_result"
    }
   ],
   "source": [
    "x is y # 'is' chk location is same or not"
   ]
  },
  {
   "cell_type": "code",
   "execution_count": 3,
   "id": "92cb447f",
   "metadata": {},
   "outputs": [],
   "source": [
    "a='java'\n",
    "b=\"java\"\n",
    "c=\"\"\"java\"\"\""
   ]
  },
  {
   "cell_type": "code",
   "execution_count": 4,
   "id": "0a1c1496",
   "metadata": {},
   "outputs": [
    {
     "data": {
      "text/plain": [
       "True"
      ]
     },
     "execution_count": 4,
     "metadata": {},
     "output_type": "execute_result"
    }
   ],
   "source": [
    "a is b is c"
   ]
  },
  {
   "cell_type": "code",
   "execution_count": 5,
   "id": "632ee795",
   "metadata": {},
   "outputs": [
    {
     "data": {
      "text/plain": [
       "'javajava'"
      ]
     },
     "execution_count": 5,
     "metadata": {},
     "output_type": "execute_result"
    }
   ],
   "source": [
    "a+a       # Concatination"
   ]
  },
  {
   "cell_type": "code",
   "execution_count": 6,
   "id": "ee7b54b2",
   "metadata": {},
   "outputs": [
    {
     "data": {
      "text/plain": [
       "'javajava'"
      ]
     },
     "execution_count": 6,
     "metadata": {},
     "output_type": "execute_result"
    }
   ],
   "source": [
    "a+b"
   ]
  },
  {
   "cell_type": "code",
   "execution_count": 7,
   "id": "d3a5aea2",
   "metadata": {},
   "outputs": [
    {
     "data": {
      "text/plain": [
       "'javajavajavajava'"
      ]
     },
     "execution_count": 7,
     "metadata": {},
     "output_type": "execute_result"
    }
   ],
   "source": [
    "a*4      # Concatination"
   ]
  },
  {
   "cell_type": "code",
   "execution_count": 10,
   "id": "112942c0",
   "metadata": {},
   "outputs": [
    {
     "data": {
      "text/plain": [
       "'v'"
      ]
     },
     "execution_count": 10,
     "metadata": {},
     "output_type": "execute_result"
    }
   ],
   "source": [
    "a[2]      # Indexing-- In python indexing start with '0'"
   ]
  },
  {
   "cell_type": "code",
   "execution_count": 12,
   "id": "5b8c568c",
   "metadata": {},
   "outputs": [
    {
     "data": {
      "text/plain": [
       "'j'"
      ]
     },
     "execution_count": 12,
     "metadata": {},
     "output_type": "execute_result"
    }
   ],
   "source": [
    "a[0]"
   ]
  },
  {
   "cell_type": "code",
   "execution_count": 13,
   "id": "6e9acda4",
   "metadata": {},
   "outputs": [
    {
     "data": {
      "text/plain": [
       "0"
      ]
     },
     "execution_count": 13,
     "metadata": {},
     "output_type": "execute_result"
    }
   ],
   "source": [
    "a.index('j')"
   ]
  },
  {
   "cell_type": "code",
   "execution_count": 14,
   "id": "91832006",
   "metadata": {},
   "outputs": [
    {
     "data": {
      "text/plain": [
       "1"
      ]
     },
     "execution_count": 14,
     "metadata": {},
     "output_type": "execute_result"
    }
   ],
   "source": [
    "a.index('a')      # if their are 2 same alphabates present in sting python retrieves indexing of 1st one \n",
    "                  #'their are 2 'a' in word 'java'"
   ]
  },
  {
   "cell_type": "code",
   "execution_count": 15,
   "id": "8f48faba",
   "metadata": {},
   "outputs": [
    {
     "data": {
      "text/plain": [
       "2"
      ]
     },
     "execution_count": 15,
     "metadata": {},
     "output_type": "execute_result"
    }
   ],
   "source": [
    "a.index('v')"
   ]
  },
  {
   "cell_type": "code",
   "execution_count": 16,
   "id": "d969a124",
   "metadata": {},
   "outputs": [
    {
     "data": {
      "text/plain": [
       "1"
      ]
     },
     "execution_count": 16,
     "metadata": {},
     "output_type": "execute_result"
    }
   ],
   "source": [
    "a.count('j')"
   ]
  },
  {
   "cell_type": "code",
   "execution_count": 17,
   "id": "5f7d543b",
   "metadata": {},
   "outputs": [
    {
     "data": {
      "text/plain": [
       "2"
      ]
     },
     "execution_count": 17,
     "metadata": {},
     "output_type": "execute_result"
    }
   ],
   "source": [
    "a.count('a')"
   ]
  },
  {
   "cell_type": "code",
   "execution_count": 18,
   "id": "ffe8f697",
   "metadata": {},
   "outputs": [
    {
     "data": {
      "text/plain": [
       "1"
      ]
     },
     "execution_count": 18,
     "metadata": {},
     "output_type": "execute_result"
    }
   ],
   "source": [
    "a.count(a)            # it shows value of 'a' i.e, 'java'   or we can say a.count('java') like this"
   ]
  },
  {
   "cell_type": "code",
   "execution_count": 19,
   "id": "ddbec4f3",
   "metadata": {},
   "outputs": [
    {
     "data": {
      "text/plain": [
       "1"
      ]
     },
     "execution_count": 19,
     "metadata": {},
     "output_type": "execute_result"
    }
   ],
   "source": [
    "a.count('java')"
   ]
  },
  {
   "cell_type": "code",
   "execution_count": 20,
   "id": "9aaf4cd8",
   "metadata": {},
   "outputs": [
    {
     "data": {
      "text/plain": [
       "'JAVA'"
      ]
     },
     "execution_count": 20,
     "metadata": {},
     "output_type": "execute_result"
    }
   ],
   "source": [
    "a.upper()                 "
   ]
  },
  {
   "cell_type": "code",
   "execution_count": 21,
   "id": "e028a87f",
   "metadata": {},
   "outputs": [
    {
     "data": {
      "text/plain": [
       "'java'"
      ]
     },
     "execution_count": 21,
     "metadata": {},
     "output_type": "execute_result"
    }
   ],
   "source": [
    "a"
   ]
  },
  {
   "cell_type": "code",
   "execution_count": 22,
   "id": "d054153c",
   "metadata": {},
   "outputs": [
    {
     "data": {
      "text/plain": [
       "'java'"
      ]
     },
     "execution_count": 22,
     "metadata": {},
     "output_type": "execute_result"
    }
   ],
   "source": [
    "a.lower()"
   ]
  },
  {
   "cell_type": "code",
   "execution_count": 23,
   "id": "b64e11d7",
   "metadata": {},
   "outputs": [
    {
     "data": {
      "text/plain": [
       "'java'"
      ]
     },
     "execution_count": 23,
     "metadata": {},
     "output_type": "execute_result"
    }
   ],
   "source": [
    "a"
   ]
  },
  {
   "cell_type": "code",
   "execution_count": 24,
   "id": "8e9366ae",
   "metadata": {},
   "outputs": [
    {
     "data": {
      "text/plain": [
       "'Java'"
      ]
     },
     "execution_count": 24,
     "metadata": {},
     "output_type": "execute_result"
    }
   ],
   "source": [
    "a.capitalize()"
   ]
  },
  {
   "cell_type": "code",
   "execution_count": 25,
   "id": "bc0e9a2b",
   "metadata": {},
   "outputs": [
    {
     "data": {
      "text/plain": [
       "'java'"
      ]
     },
     "execution_count": 25,
     "metadata": {},
     "output_type": "execute_result"
    }
   ],
   "source": [
    "a"
   ]
  },
  {
   "cell_type": "code",
   "execution_count": 26,
   "id": "76255942",
   "metadata": {},
   "outputs": [
    {
     "data": {
      "text/plain": [
       "'Java'"
      ]
     },
     "execution_count": 26,
     "metadata": {},
     "output_type": "execute_result"
    }
   ],
   "source": [
    "a.title()"
   ]
  },
  {
   "cell_type": "code",
   "execution_count": 27,
   "id": "c9e4185a",
   "metadata": {},
   "outputs": [
    {
     "data": {
      "text/plain": [
       "'We Are Learning Python'"
      ]
     },
     "execution_count": 27,
     "metadata": {},
     "output_type": "execute_result"
    }
   ],
   "source": [
    "'we are learning python'.title()      # capitalize each word first alpha of sentense"
   ]
  },
  {
   "cell_type": "code",
   "execution_count": 28,
   "id": "882c048d",
   "metadata": {},
   "outputs": [],
   "source": [
    "# string is a mutable in python we cannot make change in variable at same location"
   ]
  },
  {
   "cell_type": "markdown",
   "id": "4e798702",
   "metadata": {},
   "source": [
    "Boolean"
   ]
  },
  {
   "cell_type": "code",
   "execution_count": 29,
   "id": "89a4f640",
   "metadata": {},
   "outputs": [],
   "source": [
    "# True False\n",
    "# 1      0"
   ]
  },
  {
   "cell_type": "code",
   "execution_count": 32,
   "id": "c694f66e",
   "metadata": {},
   "outputs": [
    {
     "data": {
      "text/plain": [
       "6"
      ]
     },
     "execution_count": 32,
     "metadata": {},
     "output_type": "execute_result"
    }
   ],
   "source": [
    "5+True-False"
   ]
  },
  {
   "cell_type": "markdown",
   "id": "ba3d6503",
   "metadata": {},
   "source": [
    "List\n",
    "List is mutable datatype"
   ]
  },
  {
   "cell_type": "code",
   "execution_count": 33,
   "id": "96029014",
   "metadata": {},
   "outputs": [],
   "source": [
    "# Collection of object is list"
   ]
  },
  {
   "cell_type": "code",
   "execution_count": 34,
   "id": "b46c6ce8",
   "metadata": {},
   "outputs": [],
   "source": [
    "l=[1,2,3,1.5,'sam',True,[1,5,9]]"
   ]
  },
  {
   "cell_type": "code",
   "execution_count": 35,
   "id": "ece156be",
   "metadata": {},
   "outputs": [
    {
     "data": {
      "text/plain": [
       "[1, 2, 3, 1.5, 'sam', True, [1, 5, 9], 1, 2, 3, 1.5, 'sam', True, [1, 5, 9]]"
      ]
     },
     "execution_count": 35,
     "metadata": {},
     "output_type": "execute_result"
    }
   ],
   "source": [
    "l+l      # list concatination"
   ]
  },
  {
   "cell_type": "code",
   "execution_count": 36,
   "id": "5e1fb24d",
   "metadata": {},
   "outputs": [
    {
     "data": {
      "text/plain": [
       "[1, 2, 3, 1.5, 'sam', True, [1, 5, 9], 1, 2, 3, 1.5, 'sam', True, [1, 5, 9]]"
      ]
     },
     "execution_count": 36,
     "metadata": {},
     "output_type": "execute_result"
    }
   ],
   "source": [
    "l*2"
   ]
  },
  {
   "cell_type": "code",
   "execution_count": 37,
   "id": "83ecac91",
   "metadata": {},
   "outputs": [
    {
     "data": {
      "text/plain": [
       "3"
      ]
     },
     "execution_count": 37,
     "metadata": {},
     "output_type": "execute_result"
    }
   ],
   "source": [
    "l.index(1.5)"
   ]
  },
  {
   "cell_type": "code",
   "execution_count": 40,
   "id": "63914b4e",
   "metadata": {},
   "outputs": [
    {
     "data": {
      "text/plain": [
       "0"
      ]
     },
     "execution_count": 40,
     "metadata": {},
     "output_type": "execute_result"
    }
   ],
   "source": [
    "l.index(1)"
   ]
  },
  {
   "cell_type": "code",
   "execution_count": 41,
   "id": "e8c77d9a",
   "metadata": {},
   "outputs": [
    {
     "data": {
      "text/plain": [
       "2"
      ]
     },
     "execution_count": 41,
     "metadata": {},
     "output_type": "execute_result"
    }
   ],
   "source": [
    "l.count(1)    #True is value 1"
   ]
  },
  {
   "cell_type": "code",
   "execution_count": 42,
   "id": "b18f97e9",
   "metadata": {},
   "outputs": [],
   "source": [
    "l[3]=10        # change data in list"
   ]
  },
  {
   "cell_type": "code",
   "execution_count": 43,
   "id": "00f276d2",
   "metadata": {},
   "outputs": [
    {
     "data": {
      "text/plain": [
       "[1, 2, 3, 10, 'sam', True, [1, 5, 9]]"
      ]
     },
     "execution_count": 43,
     "metadata": {},
     "output_type": "execute_result"
    }
   ],
   "source": [
    "l"
   ]
  },
  {
   "cell_type": "code",
   "execution_count": 44,
   "id": "b43897ee",
   "metadata": {},
   "outputs": [],
   "source": [
    "l.append(10)"
   ]
  },
  {
   "cell_type": "code",
   "execution_count": 45,
   "id": "1520df3f",
   "metadata": {},
   "outputs": [
    {
     "data": {
      "text/plain": [
       "[1, 2, 3, 10, 'sam', True, [1, 5, 9], 10]"
      ]
     },
     "execution_count": 45,
     "metadata": {},
     "output_type": "execute_result"
    }
   ],
   "source": [
    "l"
   ]
  },
  {
   "cell_type": "code",
   "execution_count": 48,
   "id": "e9ebba7f",
   "metadata": {},
   "outputs": [
    {
     "data": {
      "text/plain": [
       "[1, 100, 100, 2, 3, 10, 'sam', True, [1, 5, 9], 10]"
      ]
     },
     "execution_count": 48,
     "metadata": {},
     "output_type": "execute_result"
    }
   ],
   "source": [
    "l.insert(1,100)\n",
    "l"
   ]
  },
  {
   "cell_type": "code",
   "execution_count": 50,
   "id": "3a8d6a78",
   "metadata": {},
   "outputs": [
    {
     "data": {
      "text/plain": [
       "[1, 2, 3, 10, 'sam', True, [1, 5, 9], 10]"
      ]
     },
     "execution_count": 50,
     "metadata": {},
     "output_type": "execute_result"
    }
   ],
   "source": [
    "l.remove(100)\n",
    "l"
   ]
  },
  {
   "cell_type": "code",
   "execution_count": 60,
   "id": "63a7aed1",
   "metadata": {},
   "outputs": [
    {
     "data": {
      "text/plain": [
       "'sam'"
      ]
     },
     "execution_count": 60,
     "metadata": {},
     "output_type": "execute_result"
    }
   ],
   "source": [
    "l.pop(4)"
   ]
  },
  {
   "cell_type": "code",
   "execution_count": 61,
   "id": "a4611e26",
   "metadata": {},
   "outputs": [
    {
     "data": {
      "text/plain": [
       "[1, 2, 3, 10, [1, 5, 9]]"
      ]
     },
     "execution_count": 61,
     "metadata": {},
     "output_type": "execute_result"
    }
   ],
   "source": [
    "l"
   ]
  },
  {
   "cell_type": "markdown",
   "id": "a1d2bc6f",
   "metadata": {},
   "source": [
    "Tuple\n",
    "Tuple is immutable datatype"
   ]
  },
  {
   "cell_type": "code",
   "execution_count": 68,
   "id": "d07df2b5",
   "metadata": {},
   "outputs": [],
   "source": [
    "l=(1,1.2,False,'sam',[1,2,3])"
   ]
  },
  {
   "cell_type": "code",
   "execution_count": 69,
   "id": "1b2542d0",
   "metadata": {},
   "outputs": [
    {
     "data": {
      "text/plain": [
       "(1, 1.2, False, 'sam', [1, 2, 3], 1, 1.2, False, 'sam', [1, 2, 3])"
      ]
     },
     "execution_count": 69,
     "metadata": {},
     "output_type": "execute_result"
    }
   ],
   "source": [
    "l+l"
   ]
  },
  {
   "cell_type": "code",
   "execution_count": 70,
   "id": "dbfa1277",
   "metadata": {},
   "outputs": [
    {
     "data": {
      "text/plain": [
       "(1, 1.2, False, 'sam', [1, 2, 3], 1, 1.2, False, 'sam', [1, 2, 3])"
      ]
     },
     "execution_count": 70,
     "metadata": {},
     "output_type": "execute_result"
    }
   ],
   "source": [
    "l*2"
   ]
  },
  {
   "cell_type": "code",
   "execution_count": 71,
   "id": "5c94e680",
   "metadata": {},
   "outputs": [
    {
     "data": {
      "text/plain": [
       "2"
      ]
     },
     "execution_count": 71,
     "metadata": {},
     "output_type": "execute_result"
    }
   ],
   "source": [
    "l.index(0)"
   ]
  },
  {
   "cell_type": "code",
   "execution_count": 72,
   "id": "a775438b",
   "metadata": {},
   "outputs": [
    {
     "data": {
      "text/plain": [
       "1"
      ]
     },
     "execution_count": 72,
     "metadata": {},
     "output_type": "execute_result"
    }
   ],
   "source": [
    "l.count(1)"
   ]
  },
  {
   "cell_type": "markdown",
   "id": "e52e29cb",
   "metadata": {},
   "source": [
    "Set"
   ]
  },
  {
   "cell_type": "code",
   "execution_count": 73,
   "id": "74842b2d",
   "metadata": {},
   "outputs": [
    {
     "data": {
      "text/plain": [
       "{1, 10, 17}"
      ]
     },
     "execution_count": 73,
     "metadata": {},
     "output_type": "execute_result"
    }
   ],
   "source": [
    "a={1,10,1,17,10}\n",
    "a"
   ]
  },
  {
   "cell_type": "code",
   "execution_count": 74,
   "id": "61cd9f32",
   "metadata": {},
   "outputs": [],
   "source": [
    "# set is unordered data we can not doing indexing to the set"
   ]
  },
  {
   "cell_type": "code",
   "execution_count": 75,
   "id": "cdbeebfa",
   "metadata": {},
   "outputs": [],
   "source": [
    "a={1,2,3}\n",
    "b={2,8,9}"
   ]
  },
  {
   "cell_type": "code",
   "execution_count": 76,
   "id": "17798b8b",
   "metadata": {},
   "outputs": [
    {
     "data": {
      "text/plain": [
       "{2}"
      ]
     },
     "execution_count": 76,
     "metadata": {},
     "output_type": "execute_result"
    }
   ],
   "source": [
    "a&b          # a union b"
   ]
  },
  {
   "cell_type": "code",
   "execution_count": 77,
   "id": "64eedc54",
   "metadata": {},
   "outputs": [
    {
     "data": {
      "text/plain": [
       "{1, 2, 3, 8, 9}"
      ]
     },
     "execution_count": 77,
     "metadata": {},
     "output_type": "execute_result"
    }
   ],
   "source": [
    "a|b           # a intersection b"
   ]
  },
  {
   "cell_type": "code",
   "execution_count": 78,
   "id": "d0abade6",
   "metadata": {},
   "outputs": [],
   "source": [
    "# set is a unique,unordered & immutable collection of data"
   ]
  },
  {
   "cell_type": "code",
   "execution_count": 79,
   "id": "9c1d20f7",
   "metadata": {},
   "outputs": [],
   "source": [
    "# whaat are the different data types & containers set can contain ?"
   ]
  },
  {
   "cell_type": "code",
   "execution_count": 80,
   "id": "0d9c1a97",
   "metadata": {},
   "outputs": [
    {
     "data": {
      "text/plain": [
       "134299671723616"
      ]
     },
     "execution_count": 80,
     "metadata": {},
     "output_type": "execute_result"
    }
   ],
   "source": [
    "id(a)"
   ]
  },
  {
   "cell_type": "code",
   "execution_count": 81,
   "id": "13a235f5",
   "metadata": {},
   "outputs": [],
   "source": [
    "a.add(10)"
   ]
  },
  {
   "cell_type": "code",
   "execution_count": 82,
   "id": "356590c8",
   "metadata": {},
   "outputs": [
    {
     "data": {
      "text/plain": [
       "{1, 2, 3, 10}"
      ]
     },
     "execution_count": 82,
     "metadata": {},
     "output_type": "execute_result"
    }
   ],
   "source": [
    "a"
   ]
  },
  {
   "cell_type": "code",
   "execution_count": 83,
   "id": "559d1226",
   "metadata": {},
   "outputs": [
    {
     "data": {
      "text/plain": [
       "134299671723616"
      ]
     },
     "execution_count": 83,
     "metadata": {},
     "output_type": "execute_result"
    }
   ],
   "source": [
    "id(a)"
   ]
  },
  {
   "cell_type": "markdown",
   "id": "fb606460",
   "metadata": {},
   "source": [
    "Dict      # Dictionary\n",
    "Dictionary is mutable datatype"
   ]
  },
  {
   "cell_type": "code",
   "execution_count": 1,
   "id": "cfc6a472",
   "metadata": {},
   "outputs": [],
   "source": [
    "# Key value Pair"
   ]
  },
  {
   "cell_type": "code",
   "execution_count": 14,
   "id": "9e97e8e3",
   "metadata": {},
   "outputs": [],
   "source": [
    "marks={\n",
    "    \n",
    "    \"s1\":14,\n",
    "    \"s2\":15,\n",
    "    \"s3\":18\n",
    "     \n",
    "}"
   ]
  },
  {
   "cell_type": "code",
   "execution_count": 15,
   "id": "4b90dc9d",
   "metadata": {},
   "outputs": [
    {
     "data": {
      "text/plain": [
       "15"
      ]
     },
     "execution_count": 15,
     "metadata": {},
     "output_type": "execute_result"
    }
   ],
   "source": [
    "marks[\"s2\"]"
   ]
  },
  {
   "cell_type": "code",
   "execution_count": 17,
   "id": "c2b0d20f",
   "metadata": {},
   "outputs": [
    {
     "data": {
      "text/plain": [
       "dict_keys(['s1', 's2', 's3'])"
      ]
     },
     "execution_count": 17,
     "metadata": {},
     "output_type": "execute_result"
    }
   ],
   "source": [
    "marks.keys()"
   ]
  },
  {
   "cell_type": "code",
   "execution_count": 19,
   "id": "955956ee",
   "metadata": {},
   "outputs": [
    {
     "data": {
      "text/plain": [
       "dict_values([14, 15, 18])"
      ]
     },
     "execution_count": 19,
     "metadata": {},
     "output_type": "execute_result"
    }
   ],
   "source": [
    "marks.values()"
   ]
  },
  {
   "cell_type": "code",
   "execution_count": 20,
   "id": "4f85fe1f",
   "metadata": {},
   "outputs": [
    {
     "data": {
      "text/plain": [
       "135018205080064"
      ]
     },
     "execution_count": 20,
     "metadata": {},
     "output_type": "execute_result"
    }
   ],
   "source": [
    "id(marks)"
   ]
  },
  {
   "cell_type": "code",
   "execution_count": 22,
   "id": "0f52b169",
   "metadata": {},
   "outputs": [],
   "source": [
    "marks[\"s1\"]=19"
   ]
  },
  {
   "cell_type": "code",
   "execution_count": 23,
   "id": "631475e9",
   "metadata": {},
   "outputs": [
    {
     "data": {
      "text/plain": [
       "{'s1': 19, 's2': 15, 's3': 18}"
      ]
     },
     "execution_count": 23,
     "metadata": {},
     "output_type": "execute_result"
    }
   ],
   "source": [
    "marks"
   ]
  },
  {
   "cell_type": "code",
   "execution_count": 24,
   "id": "1093e8e4",
   "metadata": {},
   "outputs": [
    {
     "data": {
      "text/plain": [
       "135018205080064"
      ]
     },
     "execution_count": 24,
     "metadata": {},
     "output_type": "execute_result"
    }
   ],
   "source": [
    "id(marks)"
   ]
  },
  {
   "cell_type": "code",
   "execution_count": 28,
   "id": "54b9bbf4",
   "metadata": {},
   "outputs": [],
   "source": [
    "marks.update({\"s4\":15})"
   ]
  },
  {
   "cell_type": "code",
   "execution_count": 29,
   "id": "0bbe3501",
   "metadata": {},
   "outputs": [
    {
     "data": {
      "text/plain": [
       "{'s1': 19, 's2': 15, 's3': 18, 's4': 15}"
      ]
     },
     "execution_count": 29,
     "metadata": {},
     "output_type": "execute_result"
    }
   ],
   "source": [
    "marks"
   ]
  },
  {
   "cell_type": "code",
   "execution_count": 30,
   "id": "67624c88",
   "metadata": {},
   "outputs": [
    {
     "data": {
      "text/plain": [
       "135018205080064"
      ]
     },
     "execution_count": 30,
     "metadata": {},
     "output_type": "execute_result"
    }
   ],
   "source": [
    "id(marks)"
   ]
  },
  {
   "cell_type": "code",
   "execution_count": 31,
   "id": "6d3a683f",
   "metadata": {},
   "outputs": [
    {
     "data": {
      "text/plain": [
       "15"
      ]
     },
     "execution_count": 31,
     "metadata": {},
     "output_type": "execute_result"
    }
   ],
   "source": [
    "marks.pop(\"s4\")"
   ]
  },
  {
   "cell_type": "code",
   "execution_count": 32,
   "id": "8ff145ae",
   "metadata": {},
   "outputs": [
    {
     "data": {
      "text/plain": [
       "{'s1': 19, 's2': 15, 's3': 18}"
      ]
     },
     "execution_count": 32,
     "metadata": {},
     "output_type": "execute_result"
    }
   ],
   "source": [
    "marks"
   ]
  },
  {
   "cell_type": "code",
   "execution_count": 33,
   "id": "0e3058be",
   "metadata": {},
   "outputs": [
    {
     "data": {
      "text/plain": [
       "135018205080064"
      ]
     },
     "execution_count": 33,
     "metadata": {},
     "output_type": "execute_result"
    }
   ],
   "source": [
    "id(marks)"
   ]
  },
  {
   "cell_type": "code",
   "execution_count": null,
   "id": "6f967c3a",
   "metadata": {},
   "outputs": [],
   "source": []
  }
 ],
 "metadata": {
  "kernelspec": {
   "display_name": "Python 3 (ipykernel)",
   "language": "python",
   "name": "python3"
  },
  "language_info": {
   "codemirror_mode": {
    "name": "ipython",
    "version": 3
   },
   "file_extension": ".py",
   "mimetype": "text/x-python",
   "name": "python",
   "nbconvert_exporter": "python",
   "pygments_lexer": "ipython3",
   "version": "3.10.9"
  }
 },
 "nbformat": 4,
 "nbformat_minor": 5
}
